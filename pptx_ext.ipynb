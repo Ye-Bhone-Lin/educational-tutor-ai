{
 "cells": [
  {
   "cell_type": "code",
   "execution_count": null,
   "id": "fb772464",
   "metadata": {},
   "outputs": [
    {
     "data": {
      "text/plain": [
       "True"
      ]
     },
     "execution_count": 9,
     "metadata": {},
     "output_type": "execute_result"
    }
   ],
   "source": [
    "from langchain_community.document_loaders import UnstructuredPowerPointLoader\n",
    "from langchain.text_splitter import RecursiveCharacterTextSplitter\n",
    "from langchain_community.embeddings import HuggingFaceEmbeddings\n",
    "from langchain_qdrant import QdrantVectorStore\n",
    "from qdrant_client import QdrantClient\n",
    "from qdrant_client.models import VectorParams, Distance\n",
    "from langchain.prompts import ChatPromptTemplate\n",
    "from langchain.chains.combine_documents import create_stuff_documents_chain\n",
    "from langchain.chains import create_retrieval_chain\n",
    "from langchain_openai import OpenAI\n",
    "from langchain_groq import ChatGroq \n",
    "from dotenv import load_dotenv\n",
    "\n",
    "load_dotenv()"
   ]
  },
  {
   "cell_type": "code",
   "execution_count": 10,
   "id": "37f7c8f5",
   "metadata": {},
   "outputs": [
    {
     "data": {
      "text/plain": [
       "[Document(metadata={'source': 'AI First Step Theory.pptx'}, page_content=\"Demystifying Generative AI\\n\\n1\\n\\n\\n\\nAI First Step Theory\\n\\n Machine Learning\\n\\nDeep Learning\\n\\nGenerative AI\\n\\nနက်ရှိုင်းသောအလွှာများကို အသုံးပြုပြီး ဒေတာမှစွမ်းဆောင်ရည်မြင့်စွာ သင်ယူနိုင်သည့် စက်သင်ယူနည်းပညာဖြစ်သည်။\\n\\nစက်တွေကို အတွေ့အကြုံမှ သင်ယူပြီး စနစ်တကျ လုပ်ဆောင်နိုင်အောင် လုပ်ခြင်းပါ။\\n\\nအသစ်သော စာသား၊ ပုံ၊ ဗီဒီယို စသဖြင့် အရာအသစ်များကို စက်က ဖန်တီးပေးနိုင်တဲ့ AI ဖြစ်ပါတယ်။\\n\\n2\\n\\n\\n\\nAI First Step Theory\\n\\n3\\n\\n\\n\\nUnderstanding Generative AI\\n\\nDefinition and Scope\\n\\nHow It Works\\n\\nKey Technologies\\n\\nGenerative AI refers to algorithms that can produce new content based on input data.\\n\\nTechnologies like GPT, DALL-E, and Codex represent the forefront of generative AI capabilities.\\n\\nThese systems utilize deep learning techniques, particularly neural networks, to analyze large datasets.\\n\\n4\\n\\n\\n\\nHow Generative AI works in background\\n\\n5\\n\\n\\n\\nApplications in Text Generation\\n\\nLanguage Translation\\n\\nChatbots and Virtual Assistants\\n\\nContent Creation\\n\\nAI-driven chatbots enhance customer service with human-like responses.\\n\\nAdvanced AI models facilitate real-time translation for global communication.\\n\\nGenerative AI produces articles, stories, and marketing copy efficiently.\\n\\n1\\n\\n3\\n\\n2\\n\\n6\\n\\n\\n\\nApplications in Image Generation\\n\\nProduct Visualization\\n\\nArt and Design\\n\\nGaming and Animation\\n\\nBusinesses can use AI for rapid prototyping and visualizing products, enhancing marketing efforts by providing realistic images before physical production.\\n\\nGenerative AI tools create stunning artworks and designs, allowing artists to explore new styles and concepts while automating parts of the creative process.\\n\\nAI-generated images contribute to game design and animation, creating immersive environments and characters, thus reducing development time.\\n\\n7\\n\\n\\n\\nApplications in Code Generation\\n\\nAutomated Coding\\n\\nLearning and Education\\n\\nDebugging and Optimization\\n\\nGenerative AI tools like Codex assist developers by suggesting code snippets, reducing errors, and speeding up the coding process, which enhances productivity.\\n\\nThese tools provide coding education by generating exercises and solutions, making learning programming more accessible and interactive for students.\\n\\nGenerative AI tools are revolutionizing the coding landscape by automating processes, enhancing education, and improving software performance. This leads to increased productivity and more reliable applications.\\n\\nAI can analyze existing code, identify bugs, and suggest optimizations, improving software reliability and performance significantly.\\n\\n8\\n\\n\\n\\nEthical Considerations in Generative AI\\n\\nMisuse and Misinformation\\n\\nIntellectual Property Issues\\n\\nBias and Fairness\\n\\nGenerative AI can perpetuate biases present in training data, raising concerns about fairness and representation.\\n\\nGenerative AI can be exploited to create misleading information or deepfakes, posing security risks.\\n\\nThe creation of content raises questions about ownership and copyright, necessitating clear policies.\\n\\n3\\n\\n1\\n\\n2\\n\\n9\\n\\n\\n\\nFuture of Generative AI\\n\\nRegulatory Frameworks\\n\\nIntegration with Human Creativity\\n\\nContinued Advancements\\n\\nOngoing research promises improvements in quality and versatility.\\n\\nDeveloping regulations to address ethical concerns will be essential.\\n\\nCollaboration between AI and human creators enhances creativity.\\n\\n10\\n\\n\\n\\nMultimodal AI: Future Integration\\n\\n11\\n\\n\\n\\nUnderstanding Multimodal AI\\n\\nApplications Across Fields\\n\\nTechnological Foundations\\n\\nDefinition and Importance\\n\\nMultimodal AI refers to systems that can process and understand multiple types of data inputs, such as text, images, and audio, simultaneously.\\n\\nIndustries like healthcare, entertainment, and education utilize multimodal AI for better decision-making and engagement.\\n\\nNeural networks and deep learning advancements are key in the development of effective multimodal AI.\\n\\n12\\n\\n\\n\\nHow Multimodal AI Works\\n\\nData Processing\\n\\nData Collection\\n\\nModel Training\\n\\nUsing algorithms to process and analyze the collected data.\\n\\nTraining models to learn patterns and relationships from the data.\\n\\nGathering diverse data types, such as text, images, and audio.\\n\\n13\\n\\n\\n\\nLanguage and Vision Collaboration\\n\\nVisual Question Answering\\n\\nEnhancing Communication\\n\\nContent Creation\\n\\nThis technology enables systems to interpret images and answer questions about them, making information retrieval more intuitive and user-friendly.\\n\\nCombining language processing with visual inputs allows for richer interactions, such as video captioning and image description, significantly benefiting accessibility.\\n\\nMultimodal AI tools can generate multimedia content, such as videos or presentations, based on text prompts, thus streamlining the creative process and enhancing productivity.\\n\\n3\\n\\n1\\n\\n2\\n\\n14\\n\\n\\n\\nSound and Vision Synergy\\n\\nAudio-Visual Learning\\n\\nEmotion Recognition\\n\\nInteractive Experiences\\n\\nIntegrating sound with visual data improves machine learning models, especially in contexts like speech recognition and video analysis, leading to heightened accuracy.\\n\\nThis synergy allows for immersive experiences in gaming and virtual reality, where users can engage through both sight and sound for a more captivating environment.\\n\\nMultimodal AI can analyze facial expressions and vocal tones to assess emotions, paving the way for more empathetic AI interactions in customer service and mental health applications.\\n\\n15\\n\\n\\n\\nChallenges in Multimodal AI\\n\\nComputational Complexity\\n\\nEthical Considerations\\n\\nData Integration\\n\\nMultimodal models demand high computational resources, affecting scalability and accessibility.\\n\\nMerging different data types faces issues in format compatibility and data quality discrepancies.\\n\\nDeployment raises concerns regarding privacy and biases in data interpretation.\\n\\nMultimodal AI presents various challenges that need to be addressed to enhance its effectiveness and ethical deployment. Key challenges include data integration issues, computational complexity, and ethical considerations surrounding its use. Each of these challenges impacts the development and application of multimodal AI technologies.\\n\\n16\\n\\n\\n\\nFuture Directions\\n\\nUser-Centric Design\\n\\nCross-Disciplinary Collaborations\\n\\nAdvancements in AI Models\\n\\nOngoing research focuses on developing more sophisticated models that can better understand context and nuance across modalities, enhancing overall performance.\\n\\nPartnerships between technologists, artists, and scientists are essential for fostering innovation in multimodal AI applications, ensuring diverse perspectives are integrated.\\n\\nEmphasizing user experience in the development of multimodal AI systems will lead to more intuitive interfaces and applications, benefiting a broader audience.\\n\\n1\\n\\n2\\n\\n3\\n\\n17\\n\\n\\n\\nUnderstanding Prompt Engineering\\n\\n18\\n\\n\\n\\nPrompts are instructions or inputs given to AI models that guide their responses.\\n\\nProviding context helps the AI understand background and intention, leading to relevant outputs.\\n\\nPrompts can be open-ended, specific, or directive, influencing AI's creativity and relevance.\\n\\nUnderstanding Prompts\\n\\nImportance of Context\\n\\nDefinition of Prompts\\n\\nTypes of Prompts\\n\\n19\\n\\n\\n\\nPrompt engineering often requires iterations. Testing different versions of prompts can help identify which ones yield the best results.\\n\\nProviding examples within prompts can significantly improve the quality of responses, guiding the AI on expected formats and content.\\n\\nEffective prompts should be clear and concise, avoiding ambiguity to ensure the AI understands what is being asked.\\n\\nTechniques for Crafting Prompts\\n\\nClarity and Conciseness\\n\\nIterative Refinement\\n\\nUtilizing Examples\\n\\n2\\n\\n3\\n\\n1\\n\\n20\\n\\n\\n\\n21\\n\\n\\n\\nImplementing a feedback loop allows users to refine prompts based on the AI's responses, enhancing the overall interaction and outcome.\\n\\nIt's essential to evaluate not just the correctness of responses but also their diversity. Multiple valid answers can enrich user experience.\\n\\nEvaluating the quality of AI responses is crucial. Consider criteria such as relevance, coherence, and creativity when assessing outputs.\\n\\nEvaluating AI Responses\\n\\nQuality Assessment\\n\\nFeedback Loop\\n\\nDiversity in Responses\\n\\n22\\n\\n\\n\\nAI generates quizzes and personalized learning experiences.\\n\\nWell-crafted prompts enhance understanding of user queries.\\n\\nAI produces articles, stories, and marketing copy aligned with themes.\\n\\nApplications of Prompt Engineering\\n\\nContent Generation\\n\\nEducational Tools\\n\\nChatbots and Customer Support\\n\\n23\\n\\n\\n\\nThe potential for AI-generated content to misinform or offend necessitates careful consideration.\\n\\nNatural language can be ambiguous, leading to unintended outputs.\\n\\nDifferent AI models have varied capabilities and limitations.\\n\\nChallenges in Prompt Engineering\\n\\nEthical Considerations\\n\\nModel Limitations\\n\\nAmbiguity in Language\\n\\n2\\n\\n1\\n\\n3\\n\\n24\\n\\n\\n\\nAI Tools\\n\\n1. ChatGPT (OpenAI)\\n\\nSmart chatbot for customer support, content creation, and automation.\\n\\n2. Canva AI\\n\\nDesign assistance for marketing and presentations.\\n\\n3. Otter.ai\\n\\nMeeting transcription and note-taking with AI.\\n\\n4. Notion AI\\n\\nAI-powered writing, brainstorming, and organization within your workspace.\\n\\n5. Veo 3 AI\\n\\nAI-powered video generation and editing platform to create professional videos quickly.\\n\\n6. Suno AI\\n\\nAI tool specialized in generating high-quality audio content like music (including burmese).\\n\\n25\\n\\n\\n\\nThanks For Your Time!!!\\n\\n26\")]"
      ]
     },
     "execution_count": 10,
     "metadata": {},
     "output_type": "execute_result"
    }
   ],
   "source": [
    "pptx_ext = UnstructuredPowerPointLoader(\"AI First Step Theory.pptx\")\n",
    "pptx_ext = pptx_ext.load()\n",
    "pptx_ext"
   ]
  },
  {
   "cell_type": "code",
   "execution_count": 11,
   "id": "dc807f0c",
   "metadata": {},
   "outputs": [
    {
     "data": {
      "text/plain": [
       "[Document(metadata={'source': 'AI First Step Theory.pptx'}, page_content='Demystifying Generative AI\\n\\n1\\n\\n\\n\\nAI First Step Theory\\n\\n Machine Learning\\n\\nDeep Learning\\n\\nGenerative AI\\n\\nနက်ရှိုင်းသောအလွှာများကို အသုံးပြုပြီး ဒေတာမှစွမ်းဆောင်ရည်မြင့်စွာ သင်ယူနိုင်သည့် စက်သင်ယူနည်းပညာဖြစ်သည်။\\n\\nစက်တွေကို အတွေ့အကြုံမှ သင်ယူပြီး စနစ်တကျ လုပ်ဆောင်နိုင်အောင် လုပ်ခြင်းပါ။\\n\\nအသစ်သော စာသား၊ ပုံ၊ ဗီဒီယို စသဖြင့် အရာအသစ်များကို စက်က ဖန်တီးပေးနိုင်တဲ့ AI ဖြစ်ပါတယ်။\\n\\n2\\n\\n\\n\\nAI First Step Theory\\n\\n3\\n\\n\\n\\nUnderstanding Generative AI\\n\\nDefinition and Scope\\n\\nHow It Works\\n\\nKey Technologies\\n\\nGenerative AI refers to algorithms that can produce new content based on input data.\\n\\nTechnologies like GPT, DALL-E, and Codex represent the forefront of generative AI capabilities.\\n\\nThese systems utilize deep learning techniques, particularly neural networks, to analyze large datasets.\\n\\n4\\n\\n\\n\\nHow Generative AI works in background\\n\\n5\\n\\n\\n\\nApplications in Text Generation\\n\\nLanguage Translation\\n\\nChatbots and Virtual Assistants\\n\\nContent Creation'),\n",
       " Document(metadata={'source': 'AI First Step Theory.pptx'}, page_content='AI-driven chatbots enhance customer service with human-like responses.\\n\\nAdvanced AI models facilitate real-time translation for global communication.\\n\\nGenerative AI produces articles, stories, and marketing copy efficiently.\\n\\n1\\n\\n3\\n\\n2\\n\\n6\\n\\n\\n\\nApplications in Image Generation\\n\\nProduct Visualization\\n\\nArt and Design\\n\\nGaming and Animation\\n\\nBusinesses can use AI for rapid prototyping and visualizing products, enhancing marketing efforts by providing realistic images before physical production.\\n\\nGenerative AI tools create stunning artworks and designs, allowing artists to explore new styles and concepts while automating parts of the creative process.\\n\\nAI-generated images contribute to game design and animation, creating immersive environments and characters, thus reducing development time.\\n\\n7\\n\\n\\n\\nApplications in Code Generation\\n\\nAutomated Coding\\n\\nLearning and Education\\n\\nDebugging and Optimization'),\n",
       " Document(metadata={'source': 'AI First Step Theory.pptx'}, page_content='Generative AI tools like Codex assist developers by suggesting code snippets, reducing errors, and speeding up the coding process, which enhances productivity.\\n\\nThese tools provide coding education by generating exercises and solutions, making learning programming more accessible and interactive for students.\\n\\nGenerative AI tools are revolutionizing the coding landscape by automating processes, enhancing education, and improving software performance. This leads to increased productivity and more reliable applications.\\n\\nAI can analyze existing code, identify bugs, and suggest optimizations, improving software reliability and performance significantly.\\n\\n8\\n\\n\\n\\nEthical Considerations in Generative AI\\n\\nMisuse and Misinformation\\n\\nIntellectual Property Issues\\n\\nBias and Fairness\\n\\nGenerative AI can perpetuate biases present in training data, raising concerns about fairness and representation.\\n\\nGenerative AI can be exploited to create misleading information or deepfakes, posing security risks.'),\n",
       " Document(metadata={'source': 'AI First Step Theory.pptx'}, page_content='The creation of content raises questions about ownership and copyright, necessitating clear policies.\\n\\n3\\n\\n1\\n\\n2\\n\\n9\\n\\n\\n\\nFuture of Generative AI\\n\\nRegulatory Frameworks\\n\\nIntegration with Human Creativity\\n\\nContinued Advancements\\n\\nOngoing research promises improvements in quality and versatility.\\n\\nDeveloping regulations to address ethical concerns will be essential.\\n\\nCollaboration between AI and human creators enhances creativity.\\n\\n10\\n\\n\\n\\nMultimodal AI: Future Integration\\n\\n11\\n\\n\\n\\nUnderstanding Multimodal AI\\n\\nApplications Across Fields\\n\\nTechnological Foundations\\n\\nDefinition and Importance\\n\\nMultimodal AI refers to systems that can process and understand multiple types of data inputs, such as text, images, and audio, simultaneously.\\n\\nIndustries like healthcare, entertainment, and education utilize multimodal AI for better decision-making and engagement.\\n\\nNeural networks and deep learning advancements are key in the development of effective multimodal AI.\\n\\n12\\n\\n\\n\\nHow Multimodal AI Works'),\n",
       " Document(metadata={'source': 'AI First Step Theory.pptx'}, page_content='Data Processing\\n\\nData Collection\\n\\nModel Training\\n\\nUsing algorithms to process and analyze the collected data.\\n\\nTraining models to learn patterns and relationships from the data.\\n\\nGathering diverse data types, such as text, images, and audio.\\n\\n13\\n\\n\\n\\nLanguage and Vision Collaboration\\n\\nVisual Question Answering\\n\\nEnhancing Communication\\n\\nContent Creation\\n\\nThis technology enables systems to interpret images and answer questions about them, making information retrieval more intuitive and user-friendly.\\n\\nCombining language processing with visual inputs allows for richer interactions, such as video captioning and image description, significantly benefiting accessibility.\\n\\nMultimodal AI tools can generate multimedia content, such as videos or presentations, based on text prompts, thus streamlining the creative process and enhancing productivity.\\n\\n3\\n\\n1\\n\\n2\\n\\n14\\n\\n\\n\\nSound and Vision Synergy\\n\\nAudio-Visual Learning\\n\\nEmotion Recognition\\n\\nInteractive Experiences'),\n",
       " Document(metadata={'source': 'AI First Step Theory.pptx'}, page_content='Integrating sound with visual data improves machine learning models, especially in contexts like speech recognition and video analysis, leading to heightened accuracy.\\n\\nThis synergy allows for immersive experiences in gaming and virtual reality, where users can engage through both sight and sound for a more captivating environment.\\n\\nMultimodal AI can analyze facial expressions and vocal tones to assess emotions, paving the way for more empathetic AI interactions in customer service and mental health applications.\\n\\n15\\n\\n\\n\\nChallenges in Multimodal AI\\n\\nComputational Complexity\\n\\nEthical Considerations\\n\\nData Integration\\n\\nMultimodal models demand high computational resources, affecting scalability and accessibility.\\n\\nMerging different data types faces issues in format compatibility and data quality discrepancies.\\n\\nDeployment raises concerns regarding privacy and biases in data interpretation.'),\n",
       " Document(metadata={'source': 'AI First Step Theory.pptx'}, page_content='Multimodal AI presents various challenges that need to be addressed to enhance its effectiveness and ethical deployment. Key challenges include data integration issues, computational complexity, and ethical considerations surrounding its use. Each of these challenges impacts the development and application of multimodal AI technologies.\\n\\n16\\n\\n\\n\\nFuture Directions\\n\\nUser-Centric Design\\n\\nCross-Disciplinary Collaborations\\n\\nAdvancements in AI Models\\n\\nOngoing research focuses on developing more sophisticated models that can better understand context and nuance across modalities, enhancing overall performance.\\n\\nPartnerships between technologists, artists, and scientists are essential for fostering innovation in multimodal AI applications, ensuring diverse perspectives are integrated.\\n\\nEmphasizing user experience in the development of multimodal AI systems will lead to more intuitive interfaces and applications, benefiting a broader audience.\\n\\n1\\n\\n2\\n\\n3\\n\\n17\\n\\n\\n\\nUnderstanding Prompt Engineering'),\n",
       " Document(metadata={'source': 'AI First Step Theory.pptx'}, page_content=\"18\\n\\n\\n\\nPrompts are instructions or inputs given to AI models that guide their responses.\\n\\nProviding context helps the AI understand background and intention, leading to relevant outputs.\\n\\nPrompts can be open-ended, specific, or directive, influencing AI's creativity and relevance.\\n\\nUnderstanding Prompts\\n\\nImportance of Context\\n\\nDefinition of Prompts\\n\\nTypes of Prompts\\n\\n19\\n\\n\\n\\nPrompt engineering often requires iterations. Testing different versions of prompts can help identify which ones yield the best results.\\n\\nProviding examples within prompts can significantly improve the quality of responses, guiding the AI on expected formats and content.\\n\\nEffective prompts should be clear and concise, avoiding ambiguity to ensure the AI understands what is being asked.\\n\\nTechniques for Crafting Prompts\\n\\nClarity and Conciseness\\n\\nIterative Refinement\\n\\nUtilizing Examples\\n\\n2\\n\\n3\\n\\n1\\n\\n20\\n\\n\\n\\n21\"),\n",
       " Document(metadata={'source': 'AI First Step Theory.pptx'}, page_content=\"Implementing a feedback loop allows users to refine prompts based on the AI's responses, enhancing the overall interaction and outcome.\\n\\nIt's essential to evaluate not just the correctness of responses but also their diversity. Multiple valid answers can enrich user experience.\\n\\nEvaluating the quality of AI responses is crucial. Consider criteria such as relevance, coherence, and creativity when assessing outputs.\\n\\nEvaluating AI Responses\\n\\nQuality Assessment\\n\\nFeedback Loop\\n\\nDiversity in Responses\\n\\n22\\n\\n\\n\\nAI generates quizzes and personalized learning experiences.\\n\\nWell-crafted prompts enhance understanding of user queries.\\n\\nAI produces articles, stories, and marketing copy aligned with themes.\\n\\nApplications of Prompt Engineering\\n\\nContent Generation\\n\\nEducational Tools\\n\\nChatbots and Customer Support\\n\\n23\\n\\n\\n\\nThe potential for AI-generated content to misinform or offend necessitates careful consideration.\\n\\nNatural language can be ambiguous, leading to unintended outputs.\"),\n",
       " Document(metadata={'source': 'AI First Step Theory.pptx'}, page_content='Different AI models have varied capabilities and limitations.\\n\\nChallenges in Prompt Engineering\\n\\nEthical Considerations\\n\\nModel Limitations\\n\\nAmbiguity in Language\\n\\n2\\n\\n1\\n\\n3\\n\\n24\\n\\n\\n\\nAI Tools\\n\\n1. ChatGPT (OpenAI)\\n\\nSmart chatbot for customer support, content creation, and automation.\\n\\n2. Canva AI\\n\\nDesign assistance for marketing and presentations.\\n\\n3. Otter.ai\\n\\nMeeting transcription and note-taking with AI.\\n\\n4. Notion AI\\n\\nAI-powered writing, brainstorming, and organization within your workspace.\\n\\n5. Veo 3 AI\\n\\nAI-powered video generation and editing platform to create professional videos quickly.\\n\\n6. Suno AI\\n\\nAI tool specialized in generating high-quality audio content like music (including burmese).\\n\\n25\\n\\n\\n\\nThanks For Your Time!!!\\n\\n26')]"
      ]
     },
     "execution_count": 11,
     "metadata": {},
     "output_type": "execute_result"
    }
   ],
   "source": [
    "chunk = RecursiveCharacterTextSplitter(chunk_size=1000, chunk_overlap=False)\n",
    "split_doc = chunk.split_documents(pptx_ext)\n",
    "split_doc"
   ]
  },
  {
   "cell_type": "code",
   "execution_count": 17,
   "id": "5cfc5a05",
   "metadata": {},
   "outputs": [],
   "source": [
    "client = QdrantClient(\":memory:\")\n",
    "client.create_collection(\n",
    "collection_name=\"zoomcamp-project1\",\n",
    "vectors_config=VectorParams(size=384, distance=Distance.COSINE)\n",
    ")\n",
    "\n",
    "embedding_model = HuggingFaceEmbeddings(model_name=\"all-MiniLM-L6-v2\")\n",
    "\n",
    "vector_store = QdrantVectorStore(\n",
    "client=client,\n",
    "collection_name=\"zoomcamp-project1\",\n",
    "embedding=embedding_model\n",
    ")\n",
    "model = ChatGroq(model_name=\"llama-3.3-70b-versatile\")\n",
    "vector_store.add_documents(split_doc)\n",
    "\n",
    "retriever = vector_store.as_retriever(search_type=\"similarity_score_threshold\",search_kwargs={\"score_threshold\": 0.5, \"k\": 3})\n",
    "\n",
    "system_prompt = (\n",
    "\"You are a smart assistant. \"\n",
    "\"Provide concise and professional responses from the given context.\\n\\n{context}\"\n",
    ")\n",
    "prompt = ChatPromptTemplate.from_messages([\n",
    "(\"system\", system_prompt),\n",
    "(\"human\", \"{input}\")\n",
    "])"
   ]
  },
  {
   "cell_type": "code",
   "execution_count": 18,
   "id": "fb6cdc55",
   "metadata": {},
   "outputs": [],
   "source": [
    "stuff_chain = create_stuff_documents_chain(model, prompt)\n",
    "chain = create_retrieval_chain(retriever, stuff_chain)"
   ]
  },
  {
   "cell_type": "code",
   "execution_count": 19,
   "id": "2c5ad947",
   "metadata": {},
   "outputs": [
    {
     "data": {
      "text/plain": [
       "{'input': 'what is this presentation in topics',\n",
       " 'context': [Document(metadata={'source': 'AI First Step Theory.pptx', '_id': '17ea8360f4c64c01bef75aea2d0fc3e4', '_collection_name': 'zoomcamp-project1'}, page_content=\"18\\n\\n\\n\\nPrompts are instructions or inputs given to AI models that guide their responses.\\n\\nProviding context helps the AI understand background and intention, leading to relevant outputs.\\n\\nPrompts can be open-ended, specific, or directive, influencing AI's creativity and relevance.\\n\\nUnderstanding Prompts\\n\\nImportance of Context\\n\\nDefinition of Prompts\\n\\nTypes of Prompts\\n\\n19\\n\\n\\n\\nPrompt engineering often requires iterations. Testing different versions of prompts can help identify which ones yield the best results.\\n\\nProviding examples within prompts can significantly improve the quality of responses, guiding the AI on expected formats and content.\\n\\nEffective prompts should be clear and concise, avoiding ambiguity to ensure the AI understands what is being asked.\\n\\nTechniques for Crafting Prompts\\n\\nClarity and Conciseness\\n\\nIterative Refinement\\n\\nUtilizing Examples\\n\\n2\\n\\n3\\n\\n1\\n\\n20\\n\\n\\n\\n21\"),\n",
       "  Document(metadata={'source': 'AI First Step Theory.pptx', '_id': 'a1b95291459a408b966d051088f60bc2', '_collection_name': 'zoomcamp-project1'}, page_content=\"Implementing a feedback loop allows users to refine prompts based on the AI's responses, enhancing the overall interaction and outcome.\\n\\nIt's essential to evaluate not just the correctness of responses but also their diversity. Multiple valid answers can enrich user experience.\\n\\nEvaluating the quality of AI responses is crucial. Consider criteria such as relevance, coherence, and creativity when assessing outputs.\\n\\nEvaluating AI Responses\\n\\nQuality Assessment\\n\\nFeedback Loop\\n\\nDiversity in Responses\\n\\n22\\n\\n\\n\\nAI generates quizzes and personalized learning experiences.\\n\\nWell-crafted prompts enhance understanding of user queries.\\n\\nAI produces articles, stories, and marketing copy aligned with themes.\\n\\nApplications of Prompt Engineering\\n\\nContent Generation\\n\\nEducational Tools\\n\\nChatbots and Customer Support\\n\\n23\\n\\n\\n\\nThe potential for AI-generated content to misinform or offend necessitates careful consideration.\\n\\nNatural language can be ambiguous, leading to unintended outputs.\"),\n",
       "  Document(metadata={'source': 'AI First Step Theory.pptx', '_id': 'ac16124bd21e4ddfb16b0ef5599cfab6', '_collection_name': 'zoomcamp-project1'}, page_content='Data Processing\\n\\nData Collection\\n\\nModel Training\\n\\nUsing algorithms to process and analyze the collected data.\\n\\nTraining models to learn patterns and relationships from the data.\\n\\nGathering diverse data types, such as text, images, and audio.\\n\\n13\\n\\n\\n\\nLanguage and Vision Collaboration\\n\\nVisual Question Answering\\n\\nEnhancing Communication\\n\\nContent Creation\\n\\nThis technology enables systems to interpret images and answer questions about them, making information retrieval more intuitive and user-friendly.\\n\\nCombining language processing with visual inputs allows for richer interactions, such as video captioning and image description, significantly benefiting accessibility.\\n\\nMultimodal AI tools can generate multimedia content, such as videos or presentations, based on text prompts, thus streamlining the creative process and enhancing productivity.\\n\\n3\\n\\n1\\n\\n2\\n\\n14\\n\\n\\n\\nSound and Vision Synergy\\n\\nAudio-Visual Learning\\n\\nEmotion Recognition\\n\\nInteractive Experiences')],\n",
       " 'answer': 'This presentation appears to cover topics related to Artificial Intelligence (AI), specifically:\\n\\n1. **Introduction to Prompts**: Definition, importance, and types of prompts in AI.\\n2. **Prompt Engineering**: Techniques for crafting effective prompts, including clarity, conciseness, and iterative refinement.\\n3. **Evaluating AI Responses**: Assessing the quality of AI-generated content, including relevance, coherence, and diversity.\\n4. **Applications of Prompt Engineering**: AI-generated content, educational tools, chatbots, and customer support.\\n5. **Multimodal AI**: Combining language processing with visual and audio inputs to enhance interactions and generate multimedia content.\\n6. **Data Processing and Model Training**: Gathering, processing, and analyzing data to train AI models.\\n\\nOverall, the presentation seems to focus on the development and application of AI technologies, particularly in natural language processing and multimodal interactions.'}"
      ]
     },
     "execution_count": 19,
     "metadata": {},
     "output_type": "execute_result"
    }
   ],
   "source": [
    "chain.invoke({\"input\":\"what is this presentation in topics\"})"
   ]
  },
  {
   "cell_type": "code",
   "execution_count": null,
   "id": "9875b5ce",
   "metadata": {},
   "outputs": [],
   "source": []
  },
  {
   "cell_type": "code",
   "execution_count": null,
   "id": "85f10011",
   "metadata": {},
   "outputs": [],
   "source": []
  }
 ],
 "metadata": {
  "kernelspec": {
   "display_name": "educational-tutor-ai-ORGmpezw",
   "language": "python",
   "name": "python3"
  },
  "language_info": {
   "codemirror_mode": {
    "name": "ipython",
    "version": 3
   },
   "file_extension": ".py",
   "mimetype": "text/x-python",
   "name": "python",
   "nbconvert_exporter": "python",
   "pygments_lexer": "ipython3",
   "version": "3.10.18"
  }
 },
 "nbformat": 4,
 "nbformat_minor": 5
}
